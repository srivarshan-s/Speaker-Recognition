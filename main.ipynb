{
 "cells": [
  {
   "cell_type": "markdown",
   "id": "EIO-9dZpMKmN",
   "metadata": {
    "id": "EIO-9dZpMKmN"
   },
   "source": [
    "## Environment Setup"
   ]
  },
  {
   "cell_type": "code",
   "execution_count": 1,
   "id": "8IRnf6dbMNE7",
   "metadata": {
    "colab": {
     "base_uri": "https://localhost:8080/"
    },
    "id": "8IRnf6dbMNE7",
    "outputId": "3a1a5a91-a335-4ea9-9079-407de80819be"
   },
   "outputs": [
    {
     "name": "stdout",
     "output_type": "stream",
     "text": [
      "Cloning into 'Speaker-Recognition'...\n",
      "remote: Enumerating objects: 5315, done.\u001b[K\n",
      "remote: Counting objects: 100% (5315/5315), done.\u001b[K\n",
      "remote: Compressing objects: 100% (5284/5284), done.\u001b[K\n",
      "remote: Total 5315 (delta 33), reused 5306 (delta 28), pack-reused 0\u001b[K\n",
      "Receiving objects: 100% (5315/5315), 36.36 MiB | 12.97 MiB/s, done.\n",
      "Resolving deltas: 100% (33/33), done.\n",
      "/content/Speaker-Recognition\n"
     ]
    }
   ],
   "source": [
    "! git clone https://github.com/srivarshan-s/Speaker-Recognition.git\n",
    "% cd Speaker-Recognition"
   ]
  },
  {
   "cell_type": "markdown",
   "id": "9c057a6d-f42f-4791-b8a5-db8fb37839c0",
   "metadata": {
    "id": "9c057a6d-f42f-4791-b8a5-db8fb37839c0"
   },
   "source": [
    "## Importing Libraries"
   ]
  },
  {
   "cell_type": "code",
   "execution_count": 2,
   "id": "b21202db-4861-44ed-9adf-7aa5e3376b27",
   "metadata": {
    "id": "b21202db-4861-44ed-9adf-7aa5e3376b27"
   },
   "outputs": [],
   "source": [
    "import glob\n",
    "import numpy as np\n",
    "import random\n",
    "import librosa\n",
    "from sklearn.model_selection import train_test_split\n",
    "from sklearn.preprocessing import LabelBinarizer"
   ]
  },
  {
   "cell_type": "code",
   "execution_count": 3,
   "id": "07a445fe-a062-4cc5-9a23-1e34d002447a",
   "metadata": {
    "id": "07a445fe-a062-4cc5-9a23-1e34d002447a"
   },
   "outputs": [],
   "source": [
    "import tensorflow as tf\n",
    "from tensorflow.keras.layers import LSTM, Dense, Dropout, Flatten\n",
    "from tensorflow.keras.models import Sequential\n",
    "from tensorflow.keras.optimizers import Adam\n",
    "from tensorflow.keras.callbacks import EarlyStopping, ModelCheckpoint"
   ]
  },
  {
   "cell_type": "code",
   "execution_count": 4,
   "id": "02c4776c-30c7-4388-9c1f-bd3f7344ad01",
   "metadata": {
    "id": "02c4776c-30c7-4388-9c1f-bd3f7344ad01"
   },
   "outputs": [],
   "source": [
    "import os\n",
    "os. environ['TF_CPP_MIN_LOG_LEVEL'] = '3'"
   ]
  },
  {
   "cell_type": "markdown",
   "id": "ee9f67ab-011e-42bf-ae97-edf7f792a526",
   "metadata": {
    "id": "ee9f67ab-011e-42bf-ae97-edf7f792a526"
   },
   "source": [
    "## Loading Data"
   ]
  },
  {
   "cell_type": "code",
   "execution_count": 5,
   "id": "758e8b79-2c16-4148-a237-5b7bd7e14044",
   "metadata": {
    "id": "758e8b79-2c16-4148-a237-5b7bd7e14044"
   },
   "outputs": [],
   "source": [
    "SEED = 2017\n",
    "DATA_DIR = 'data/' "
   ]
  },
  {
   "cell_type": "code",
   "execution_count": 6,
   "id": "fb4bb137-bbae-4783-bb92-b0768c60cec6",
   "metadata": {
    "id": "fb4bb137-bbae-4783-bb92-b0768c60cec6"
   },
   "outputs": [],
   "source": [
    "files = glob.glob(DATA_DIR + \"*.wav\")\n",
    "X_train, X_val = train_test_split(files, test_size=0.2, random_state=SEED)"
   ]
  },
  {
   "cell_type": "code",
   "execution_count": 7,
   "id": "bdd473ca-623e-4649-b524-5ec7f81a91cd",
   "metadata": {
    "colab": {
     "base_uri": "https://localhost:8080/"
    },
    "id": "bdd473ca-623e-4649-b524-5ec7f81a91cd",
    "outputId": "80a95d42-605c-4154-80ac-0ed03e5ad153"
   },
   "outputs": [
    {
     "name": "stdout",
     "output_type": "stream",
     "text": [
      "Training examples: 1920\n",
      "Validation examples: 480\n"
     ]
    }
   ],
   "source": [
    "print('Training examples: {}'.format(len(X_train)))\n",
    "print('Validation examples: {}'.format(len(X_val)))"
   ]
  },
  {
   "cell_type": "code",
   "execution_count": 8,
   "id": "08dea5c0-8b38-472e-9312-e54ccf8aec20",
   "metadata": {
    "id": "08dea5c0-8b38-472e-9312-e54ccf8aec20"
   },
   "outputs": [],
   "source": [
    "labels = []\n",
    "\n",
    "for i in range(len(X_train)):\n",
    "    label = X_train[i].split('/')[-1].split('_')[1]\n",
    "    \n",
    "    if label not in labels:\n",
    "        labels.append(label)"
   ]
  },
  {
   "cell_type": "code",
   "execution_count": 9,
   "id": "44c51831-2b70-4c83-93f0-951338e2a682",
   "metadata": {
    "colab": {
     "base_uri": "https://localhost:8080/"
    },
    "id": "44c51831-2b70-4c83-93f0-951338e2a682",
    "outputId": "ae62a639-4d01-4376-e512-bf3669202fc9"
   },
   "outputs": [
    {
     "name": "stdout",
     "output_type": "stream",
     "text": [
      "['Junior', 'Daniel', 'Steffi', 'Victoria', 'Tom', 'Samantha', 'Princess', 'Ralph', 'Alex', 'Kathy', 'Agnes', 'Bruce', 'Albert', 'Fred', 'Vicki']\n"
     ]
    }
   ],
   "source": [
    "print(labels)"
   ]
  },
  {
   "cell_type": "markdown",
   "id": "4823e37b-1bbc-4a62-8c18-daeac8e713a4",
   "metadata": {
    "id": "4823e37b-1bbc-4a62-8c18-daeac8e713a4"
   },
   "source": [
    "## Data Preprocessing"
   ]
  },
  {
   "cell_type": "code",
   "execution_count": 10,
   "id": "71169dc6-b450-48c8-9347-adacd419ae9c",
   "metadata": {
    "colab": {
     "base_uri": "https://localhost:8080/"
    },
    "id": "71169dc6-b450-48c8-9347-adacd419ae9c",
    "outputId": "1d63e1e2-b354-43c1-9658-ccb39f12b471"
   },
   "outputs": [
    {
     "data": {
      "text/plain": [
       "LabelBinarizer()"
      ]
     },
     "execution_count": 10,
     "metadata": {},
     "output_type": "execute_result"
    }
   ],
   "source": [
    "label_binarizer = LabelBinarizer()\n",
    "label_binarizer.fit(list(set(labels)))"
   ]
  },
  {
   "cell_type": "code",
   "execution_count": 11,
   "id": "da3cd7b3-bcd7-43c0-ab2f-d3b5c70a4afd",
   "metadata": {
    "id": "da3cd7b3-bcd7-43c0-ab2f-d3b5c70a4afd"
   },
   "outputs": [],
   "source": [
    "def one_hot_encode(label):\n",
    "    return label_binarizer.transform(label)"
   ]
  },
  {
   "cell_type": "code",
   "execution_count": 12,
   "id": "6411f8c9-ed0b-4b6d-b6a8-4d2aef0c666e",
   "metadata": {
    "id": "6411f8c9-ed0b-4b6d-b6a8-4d2aef0c666e"
   },
   "outputs": [],
   "source": [
    "n_features = 20\n",
    "max_length = 80\n",
    "n_classes = len(labels)"
   ]
  },
  {
   "cell_type": "code",
   "execution_count": 13,
   "id": "3bb862de-a36b-47ec-8852-85f7a77475b2",
   "metadata": {
    "id": "3bb862de-a36b-47ec-8852-85f7a77475b2"
   },
   "outputs": [],
   "source": [
    "def batch_generator(data, batch_size=16):\n",
    "    while 1:\n",
    "        random.shuffle(data)\n",
    "        X, y = [], []\n",
    "        for i in range(batch_size):\n",
    "            wav = data[i]\n",
    "            wave, sr = librosa.load(wav, mono=True)\n",
    "            label = wav.split('/')[-1].split('_')[1]\n",
    "            y.append(label)\n",
    "            mfcc = librosa.feature.mfcc(wave, sr)\n",
    "            mfcc = np.pad(mfcc, ((0,0), (0, max_length-len(mfcc[0]))), mode='constant', constant_values=0) \n",
    "            X.append(np.array(mfcc))\n",
    "        yield np.array(X), np.array(one_hot_encode(y))"
   ]
  },
  {
   "cell_type": "markdown",
   "id": "232cae79-f33d-437c-b7c3-663c123b87da",
   "metadata": {
    "id": "232cae79-f33d-437c-b7c3-663c123b87da"
   },
   "source": [
    "## Model Training"
   ]
  },
  {
   "cell_type": "code",
   "execution_count": 14,
   "id": "b907933f-d179-4894-90eb-e0947bdeea0e",
   "metadata": {
    "id": "b907933f-d179-4894-90eb-e0947bdeea0e"
   },
   "outputs": [],
   "source": [
    "learning_rate = 0.001\n",
    "batch_size = 64\n",
    "n_epochs = 50\n",
    "dropout = 0.5"
   ]
  },
  {
   "cell_type": "code",
   "execution_count": 15,
   "id": "775c8232-ed21-42fc-98e3-177c61c00607",
   "metadata": {
    "id": "775c8232-ed21-42fc-98e3-177c61c00607"
   },
   "outputs": [],
   "source": [
    "input_shape = (n_features, max_length)\n",
    "steps_per_epoch = 50"
   ]
  },
  {
   "cell_type": "code",
   "execution_count": 16,
   "id": "a21d2fc4-b3e0-4abc-8aaa-3520f526db78",
   "metadata": {
    "id": "a21d2fc4-b3e0-4abc-8aaa-3520f526db78"
   },
   "outputs": [],
   "source": [
    "model = Sequential()\n",
    "model.add(LSTM(256, return_sequences=True, input_shape=input_shape,\n",
    "dropout=dropout))\n",
    "model.add(Flatten())\n",
    "model.add(Dense(128, activation='relu'))\n",
    "model.add(Dropout(dropout))\n",
    "model.add(Dense(n_classes, activation='softmax'))"
   ]
  },
  {
   "cell_type": "code",
   "execution_count": 17,
   "id": "f3d822c4-ed8e-40d3-b81d-fd100c05d520",
   "metadata": {
    "colab": {
     "base_uri": "https://localhost:8080/"
    },
    "id": "f3d822c4-ed8e-40d3-b81d-fd100c05d520",
    "outputId": "13e96b60-4168-421c-e4c1-94672f52f02a"
   },
   "outputs": [
    {
     "name": "stdout",
     "output_type": "stream",
     "text": [
      "Model: \"sequential\"\n",
      "_________________________________________________________________\n",
      " Layer (type)                Output Shape              Param #   \n",
      "=================================================================\n",
      " lstm (LSTM)                 (None, 20, 256)           345088    \n",
      "                                                                 \n",
      " flatten (Flatten)           (None, 5120)              0         \n",
      "                                                                 \n",
      " dense (Dense)               (None, 128)               655488    \n",
      "                                                                 \n",
      " dropout (Dropout)           (None, 128)               0         \n",
      "                                                                 \n",
      " dense_1 (Dense)             (None, 15)                1935      \n",
      "                                                                 \n",
      "=================================================================\n",
      "Total params: 1,002,511\n",
      "Trainable params: 1,002,511\n",
      "Non-trainable params: 0\n",
      "_________________________________________________________________\n"
     ]
    }
   ],
   "source": [
    "opt = Adam(learning_rate=learning_rate)\n",
    "model.compile(loss='categorical_crossentropy', optimizer=opt, metrics=['accuracy'])\n",
    "model.summary()"
   ]
  },
  {
   "cell_type": "code",
   "execution_count": 18,
   "id": "70be77c1-ab92-4dea-a4f0-8b7f43d8ac4f",
   "metadata": {
    "id": "70be77c1-ab92-4dea-a4f0-8b7f43d8ac4f"
   },
   "outputs": [],
   "source": [
    "callbacks = [ModelCheckpoint('checkpoints/voice_recognition_best_model_{epoch:02d}.hdf5', save_best_only=True),\n",
    "            EarlyStopping(monitor='val_accuracy', patience=2)]"
   ]
  },
  {
   "cell_type": "code",
   "execution_count": 19,
   "id": "671dea65-c56e-4002-b8f5-d8e992bcc61e",
   "metadata": {
    "colab": {
     "base_uri": "https://localhost:8080/"
    },
    "id": "671dea65-c56e-4002-b8f5-d8e992bcc61e",
    "outputId": "dfdcd2a1-00c6-47c9-a330-8a2bd46ff0f9"
   },
   "outputs": [
    {
     "name": "stderr",
     "output_type": "stream",
     "text": [
      "/usr/local/lib/python3.7/dist-packages/ipykernel_launcher.py:8: UserWarning: `Model.fit_generator` is deprecated and will be removed in a future version. Please use `Model.fit`, which supports generators.\n",
      "  \n"
     ]
    },
    {
     "name": "stdout",
     "output_type": "stream",
     "text": [
      "Epoch 1/50\n",
      "50/50 [==============================] - 94s 2s/step - loss: 2.4039 - accuracy: 0.2138 - val_loss: 1.8423 - val_accuracy: 0.3812\n",
      "Epoch 2/50\n",
      "50/50 [==============================] - 90s 2s/step - loss: 1.7808 - accuracy: 0.4038 - val_loss: 1.3632 - val_accuracy: 0.5125\n",
      "Epoch 3/50\n",
      "50/50 [==============================] - 91s 2s/step - loss: 1.4401 - accuracy: 0.5119 - val_loss: 0.9730 - val_accuracy: 0.6250\n",
      "Epoch 4/50\n",
      "50/50 [==============================] - 92s 2s/step - loss: 1.2184 - accuracy: 0.5806 - val_loss: 0.6475 - val_accuracy: 0.8250\n",
      "Epoch 5/50\n",
      "50/50 [==============================] - 91s 2s/step - loss: 1.0364 - accuracy: 0.6484 - val_loss: 0.5268 - val_accuracy: 0.7812\n",
      "Epoch 6/50\n",
      "50/50 [==============================] - 90s 2s/step - loss: 0.8977 - accuracy: 0.6928 - val_loss: 0.5585 - val_accuracy: 0.8250\n"
     ]
    }
   ],
   "source": [
    "history = model.fit_generator(\n",
    "    generator=batch_generator(X_train, batch_size),\n",
    "    steps_per_epoch=steps_per_epoch,\n",
    "    epochs=n_epochs,\n",
    "    verbose=1,\n",
    "    validation_data=batch_generator(X_val, 32),\n",
    "    validation_steps=5,\n",
    "    callbacks=callbacks\n",
    ")"
   ]
  },
  {
   "cell_type": "markdown",
   "id": "7JzhJqDnVZid",
   "metadata": {
    "id": "7JzhJqDnVZid"
   },
   "source": [
    "## Load the Model from Checkpoints"
   ]
  },
  {
   "cell_type": "code",
   "execution_count": 32,
   "id": "zp92qZfSe-vw",
   "metadata": {
    "id": "zp92qZfSe-vw"
   },
   "outputs": [],
   "source": [
    "model = Sequential()\n",
    "model.add(LSTM(256, return_sequences=True, input_shape=input_shape,\n",
    "dropout=dropout))\n",
    "model.add(Flatten())\n",
    "model.add(Dense(128, activation='relu'))\n",
    "model.add(Dropout(dropout))\n",
    "model.add(Dense(n_classes, activation='softmax'))\n",
    "\n",
    "opt = Adam(learning_rate=learning_rate)\n",
    "model.compile(loss='categorical_crossentropy', optimizer=opt, metrics=['accuracy'])"
   ]
  },
  {
   "cell_type": "code",
   "execution_count": 33,
   "id": "flKQbCjYWJ5W",
   "metadata": {
    "id": "flKQbCjYWJ5W"
   },
   "outputs": [],
   "source": [
    "model.load_weights('checkpoints/voice_recognition_best_model_12.hdf5')"
   ]
  },
  {
   "cell_type": "markdown",
   "id": "iCRQZGEZWyrx",
   "metadata": {
    "id": "iCRQZGEZWyrx"
   },
   "source": [
    "## Perform Speaker Recognition"
   ]
  },
  {
   "cell_type": "code",
   "execution_count": 34,
   "id": "OXlenB9BWTkk",
   "metadata": {
    "id": "OXlenB9BWTkk"
   },
   "outputs": [],
   "source": [
    "wave, sr = librosa.load('data/0_Agnes_100.wav', mono=True)\n",
    "mfcc = librosa.feature.mfcc(wave, sr)\n",
    "mfcc = np.pad(mfcc, ((0,0), (0, max_length-len(mfcc[0]))), mode='constant', constant_values=0)"
   ]
  },
  {
   "cell_type": "code",
   "execution_count": 35,
   "id": "goiemkHoXGRL",
   "metadata": {
    "id": "goiemkHoXGRL"
   },
   "outputs": [],
   "source": [
    "model_input = np.array(mfcc)\n",
    "model_input = model_input.reshape(1, 20, 80)"
   ]
  },
  {
   "cell_type": "code",
   "execution_count": 36,
   "id": "OLslc5YwXTGI",
   "metadata": {
    "id": "OLslc5YwXTGI"
   },
   "outputs": [],
   "source": [
    "model_output = model.predict(model_input)"
   ]
  },
  {
   "cell_type": "code",
   "execution_count": 37,
   "id": "Ltil0wc-YKUo",
   "metadata": {
    "colab": {
     "base_uri": "https://localhost:8080/"
    },
    "id": "Ltil0wc-YKUo",
    "outputId": "abf855fc-ab5d-44d6-f7e5-02d3ece43b7f"
   },
   "outputs": [
    {
     "name": "stdout",
     "output_type": "stream",
     "text": [
      "[[8.4227544e-01 7.5190297e-07 2.1749983e-02 6.5446432e-07 4.7448056e-04\n",
      "  7.7964836e-07 2.6274284e-02 2.7151461e-04 9.5497072e-02 8.7537402e-03\n",
      "  1.9678359e-03 6.7181670e-04 1.3139777e-05 8.5734029e-04 1.1910251e-03]]\n"
     ]
    }
   ],
   "source": [
    "print(model_output)"
   ]
  },
  {
   "cell_type": "code",
   "execution_count": 40,
   "id": "QIRuVGHJfIXn",
   "metadata": {
    "id": "QIRuVGHJfIXn"
   },
   "outputs": [],
   "source": [
    "pred = label_binarizer.inverse_transform(model_output)"
   ]
  },
  {
   "cell_type": "code",
   "execution_count": 41,
   "id": "mWygZ9tGfzkj",
   "metadata": {
    "colab": {
     "base_uri": "https://localhost:8080/"
    },
    "id": "mWygZ9tGfzkj",
    "outputId": "466d2029-1c8b-413f-e4fa-9b5995b1a4b3"
   },
   "outputs": [
    {
     "name": "stdout",
     "output_type": "stream",
     "text": [
      "['Agnes']\n"
     ]
    }
   ],
   "source": [
    "print(pred)"
   ]
  }
 ],
 "metadata": {
  "colab": {
   "collapsed_sections": [],
   "name": "main.ipynb",
   "provenance": []
  },
  "kernelspec": {
   "display_name": "speaker-recog",
   "language": "python",
   "name": "speaker-recog"
  },
  "language_info": {
   "codemirror_mode": {
    "name": "ipython",
    "version": 3
   },
   "file_extension": ".py",
   "mimetype": "text/x-python",
   "name": "python",
   "nbconvert_exporter": "python",
   "pygments_lexer": "ipython3",
   "version": "3.9.7"
  }
 },
 "nbformat": 4,
 "nbformat_minor": 5
}
