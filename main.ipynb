{
 "cells": [
  {
   "cell_type": "markdown",
   "id": "9c057a6d-f42f-4791-b8a5-db8fb37839c0",
   "metadata": {},
   "source": [
    "## Importing Libraries"
   ]
  },
  {
   "cell_type": "code",
   "execution_count": 1,
   "id": "b21202db-4861-44ed-9adf-7aa5e3376b27",
   "metadata": {},
   "outputs": [],
   "source": [
    "import glob\n",
    "import numpy as np\n",
    "import random\n",
    "import librosa\n",
    "from sklearn.model_selection import train_test_split\n",
    "from sklearn.preprocessing import LabelBinarizer"
   ]
  },
  {
   "cell_type": "code",
   "execution_count": 2,
   "id": "07a445fe-a062-4cc5-9a23-1e34d002447a",
   "metadata": {},
   "outputs": [],
   "source": [
    "import tensorflow as tf\n",
    "from tensorflow.keras.layers import LSTM, Dense, Dropout, Flatten\n",
    "from tensorflow.keras.models import Sequential\n",
    "from tensorflow.keras.optimizers import Adam\n",
    "from tensorflow.keras.callbacks import EarlyStopping, ModelCheckpoint"
   ]
  },
  {
   "cell_type": "code",
   "execution_count": 3,
   "id": "02c4776c-30c7-4388-9c1f-bd3f7344ad01",
   "metadata": {},
   "outputs": [],
   "source": [
    "import os\n",
    "os. environ['TF_CPP_MIN_LOG_LEVEL'] = '3'"
   ]
  },
  {
   "cell_type": "markdown",
   "id": "ee9f67ab-011e-42bf-ae97-edf7f792a526",
   "metadata": {},
   "source": [
    "## Loading Data"
   ]
  },
  {
   "cell_type": "code",
   "execution_count": 4,
   "id": "758e8b79-2c16-4148-a237-5b7bd7e14044",
   "metadata": {},
   "outputs": [],
   "source": [
    "SEED = 2017\n",
    "DATA_DIR = 'data/' "
   ]
  },
  {
   "cell_type": "code",
   "execution_count": 5,
   "id": "fb4bb137-bbae-4783-bb92-b0768c60cec6",
   "metadata": {},
   "outputs": [],
   "source": [
    "files = glob.glob(DATA_DIR + \"*.wav\")\n",
    "X_train, X_val = train_test_split(files, test_size=0.2, random_state=SEED)"
   ]
  },
  {
   "cell_type": "code",
   "execution_count": 6,
   "id": "bdd473ca-623e-4649-b524-5ec7f81a91cd",
   "metadata": {},
   "outputs": [
    {
     "name": "stdout",
     "output_type": "stream",
     "text": [
      "Training examples: 1920\n",
      "Validation examples: 480\n"
     ]
    }
   ],
   "source": [
    "print('Training examples: {}'.format(len(X_train)))\n",
    "print('Validation examples: {}'.format(len(X_val)))"
   ]
  },
  {
   "cell_type": "code",
   "execution_count": 7,
   "id": "08dea5c0-8b38-472e-9312-e54ccf8aec20",
   "metadata": {},
   "outputs": [],
   "source": [
    "labels = []\n",
    "\n",
    "for i in range(len(X_train)):\n",
    "    label = X_train[i].split('/')[-1].split('_')[1]\n",
    "    \n",
    "    if label not in labels:\n",
    "        labels.append(label)"
   ]
  },
  {
   "cell_type": "code",
   "execution_count": 8,
   "id": "44c51831-2b70-4c83-93f0-951338e2a682",
   "metadata": {},
   "outputs": [
    {
     "name": "stdout",
     "output_type": "stream",
     "text": [
      "['Vicki', 'Ralph', 'Alex', 'Bruce', 'Victoria', 'Tom', 'Fred', 'Albert', 'Agnes', 'Daniel', 'Princess', 'Junior', 'Steffi', 'Kathy', 'Samantha']\n"
     ]
    }
   ],
   "source": [
    "print(labels)"
   ]
  },
  {
   "cell_type": "markdown",
   "id": "4823e37b-1bbc-4a62-8c18-daeac8e713a4",
   "metadata": {},
   "source": [
    "## Data Preprocessing"
   ]
  },
  {
   "cell_type": "code",
   "execution_count": 9,
   "id": "71169dc6-b450-48c8-9347-adacd419ae9c",
   "metadata": {},
   "outputs": [
    {
     "data": {
      "text/plain": [
       "LabelBinarizer()"
      ]
     },
     "execution_count": 9,
     "metadata": {},
     "output_type": "execute_result"
    }
   ],
   "source": [
    "label_binarizer = LabelBinarizer()\n",
    "label_binarizer.fit(list(set(labels)))"
   ]
  },
  {
   "cell_type": "code",
   "execution_count": 10,
   "id": "da3cd7b3-bcd7-43c0-ab2f-d3b5c70a4afd",
   "metadata": {},
   "outputs": [],
   "source": [
    "def one_hot_encode(label):\n",
    "    return label_binarizer.transform(label)"
   ]
  },
  {
   "cell_type": "code",
   "execution_count": 11,
   "id": "6411f8c9-ed0b-4b6d-b6a8-4d2aef0c666e",
   "metadata": {},
   "outputs": [],
   "source": [
    "n_features = 20\n",
    "max_length = 80\n",
    "n_classes = len(labels)"
   ]
  },
  {
   "cell_type": "code",
   "execution_count": 12,
   "id": "3bb862de-a36b-47ec-8852-85f7a77475b2",
   "metadata": {},
   "outputs": [],
   "source": [
    "def batch_generator(data, batch_size=16):\n",
    "    while 1:\n",
    "        random.shuffle(data)\n",
    "        X, y = [], []\n",
    "        for i in range(batch_size):\n",
    "            wav = data[i]\n",
    "            wave, sr = librosa.load(wav, mono=True)\n",
    "            label = wav.split('/')[-1].split('_')[1]\n",
    "            y.append(label)\n",
    "            mfcc = librosa.feature.mfcc(wave, sr)\n",
    "            mfcc = np.pad(mfcc, ((0,0), (0, max_length-len(mfcc[0]))), mode='constant', constant_values=0) \n",
    "            X.append(np.array(mfcc))\n",
    "        yield np.array(X), np.array(one_hot_encode(y))"
   ]
  },
  {
   "cell_type": "markdown",
   "id": "232cae79-f33d-437c-b7c3-663c123b87da",
   "metadata": {},
   "source": [
    "## Model Training"
   ]
  },
  {
   "cell_type": "code",
   "execution_count": 13,
   "id": "b907933f-d179-4894-90eb-e0947bdeea0e",
   "metadata": {},
   "outputs": [],
   "source": [
    "learning_rate = 0.001\n",
    "batch_size = 64\n",
    "n_epochs = 50\n",
    "dropout = 0.5"
   ]
  },
  {
   "cell_type": "code",
   "execution_count": 14,
   "id": "775c8232-ed21-42fc-98e3-177c61c00607",
   "metadata": {},
   "outputs": [],
   "source": [
    "input_shape = (n_features, max_length)\n",
    "steps_per_epoch = 50"
   ]
  },
  {
   "cell_type": "code",
   "execution_count": 15,
   "id": "a21d2fc4-b3e0-4abc-8aaa-3520f526db78",
   "metadata": {},
   "outputs": [],
   "source": [
    "model = Sequential()\n",
    "model.add(LSTM(256, return_sequences=True, input_shape=input_shape,\n",
    "dropout=dropout))\n",
    "model.add(Flatten())\n",
    "model.add(Dense(128, activation='relu'))\n",
    "model.add(Dropout(dropout))\n",
    "model.add(Dense(n_classes, activation='softmax'))"
   ]
  },
  {
   "cell_type": "code",
   "execution_count": null,
   "id": "f3d822c4-ed8e-40d3-b81d-fd100c05d520",
   "metadata": {},
   "outputs": [],
   "source": []
  }
 ],
 "metadata": {
  "kernelspec": {
   "display_name": "speaker-recog",
   "language": "python",
   "name": "speaker-recog"
  },
  "language_info": {
   "codemirror_mode": {
    "name": "ipython",
    "version": 3
   },
   "file_extension": ".py",
   "mimetype": "text/x-python",
   "name": "python",
   "nbconvert_exporter": "python",
   "pygments_lexer": "ipython3",
   "version": "3.9.7"
  }
 },
 "nbformat": 4,
 "nbformat_minor": 5
}
