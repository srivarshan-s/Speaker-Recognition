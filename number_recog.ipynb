{
  "nbformat": 4,
  "nbformat_minor": 5,
  "metadata": {
    "kernelspec": {
      "name": "python3",
      "display_name": "Python 3"
    },
    "colab": {
      "name": "lab-challenge.ipynb",
      "provenance": [],
      "collapsed_sections": []
    },
    "language_info": {
      "name": "python"
    }
  },
  "cells": [
    {
      "cell_type": "markdown",
      "metadata": {
        "id": "EIO-9dZpMKmN"
      },
      "source": [
        "## Environment Setup"
      ],
      "id": "EIO-9dZpMKmN"
    },
    {
      "cell_type": "code",
      "metadata": {
        "colab": {
          "base_uri": "https://localhost:8080/"
        },
        "id": "8IRnf6dbMNE7",
        "outputId": "5ac6dd57-0890-4f83-ff2b-11c881dd5eb1"
      },
      "source": [
        "! git clone https://github.com/srivarshan-s/Speaker-Recognition.git\n",
        "% cd Speaker-Recognition"
      ],
      "id": "8IRnf6dbMNE7",
      "execution_count": 1,
      "outputs": [
        {
          "output_type": "stream",
          "name": "stdout",
          "text": [
            "Cloning into 'Speaker-Recognition'...\n",
            "remote: Enumerating objects: 5333, done.\u001b[K\n",
            "remote: Counting objects: 100% (5333/5333), done.\u001b[K\n",
            "remote: Compressing objects: 100% (5297/5297), done.\u001b[K\n",
            "remote: Total 5333 (delta 41), reused 5320 (delta 32), pack-reused 0\u001b[K\n",
            "Receiving objects: 100% (5333/5333), 47.11 MiB | 21.42 MiB/s, done.\n",
            "Resolving deltas: 100% (41/41), done.\n",
            "/content/Speaker-Recognition\n"
          ]
        }
      ]
    },
    {
      "cell_type": "markdown",
      "metadata": {
        "id": "9c057a6d-f42f-4791-b8a5-db8fb37839c0"
      },
      "source": [
        "## Importing Libraries"
      ],
      "id": "9c057a6d-f42f-4791-b8a5-db8fb37839c0"
    },
    {
      "cell_type": "code",
      "metadata": {
        "id": "b21202db-4861-44ed-9adf-7aa5e3376b27"
      },
      "source": [
        "import glob\n",
        "import numpy as np\n",
        "import random\n",
        "import librosa\n",
        "from sklearn.model_selection import train_test_split\n",
        "from sklearn.preprocessing import LabelBinarizer"
      ],
      "id": "b21202db-4861-44ed-9adf-7aa5e3376b27",
      "execution_count": 2,
      "outputs": []
    },
    {
      "cell_type": "code",
      "metadata": {
        "id": "07a445fe-a062-4cc5-9a23-1e34d002447a"
      },
      "source": [
        "import tensorflow as tf\n",
        "from tensorflow.keras.layers import LSTM, Dense, Dropout, Flatten\n",
        "from tensorflow.keras.models import Sequential\n",
        "from tensorflow.keras.optimizers import Adam\n",
        "from tensorflow.keras.callbacks import EarlyStopping, ModelCheckpoint"
      ],
      "id": "07a445fe-a062-4cc5-9a23-1e34d002447a",
      "execution_count": 3,
      "outputs": []
    },
    {
      "cell_type": "code",
      "metadata": {
        "id": "02c4776c-30c7-4388-9c1f-bd3f7344ad01"
      },
      "source": [
        "import os\n",
        "os. environ['TF_CPP_MIN_LOG_LEVEL'] = '3'"
      ],
      "id": "02c4776c-30c7-4388-9c1f-bd3f7344ad01",
      "execution_count": 4,
      "outputs": []
    },
    {
      "cell_type": "markdown",
      "metadata": {
        "id": "ee9f67ab-011e-42bf-ae97-edf7f792a526"
      },
      "source": [
        "## Loading Data"
      ],
      "id": "ee9f67ab-011e-42bf-ae97-edf7f792a526"
    },
    {
      "cell_type": "code",
      "metadata": {
        "id": "758e8b79-2c16-4148-a237-5b7bd7e14044"
      },
      "source": [
        "SEED = 2017\n",
        "DATA_DIR = 'data/' "
      ],
      "id": "758e8b79-2c16-4148-a237-5b7bd7e14044",
      "execution_count": 5,
      "outputs": []
    },
    {
      "cell_type": "code",
      "metadata": {
        "id": "fb4bb137-bbae-4783-bb92-b0768c60cec6"
      },
      "source": [
        "files = glob.glob(DATA_DIR + \"*.wav\")\n",
        "X_train, X_val = train_test_split(files, test_size=0.2, random_state=SEED)"
      ],
      "id": "fb4bb137-bbae-4783-bb92-b0768c60cec6",
      "execution_count": 6,
      "outputs": []
    },
    {
      "cell_type": "code",
      "metadata": {
        "colab": {
          "base_uri": "https://localhost:8080/"
        },
        "id": "bdd473ca-623e-4649-b524-5ec7f81a91cd",
        "outputId": "ecfe8ea2-89a8-411b-f4e1-c2fdc00b801d"
      },
      "source": [
        "print('Training examples: {}'.format(len(X_train)))\n",
        "print('Validation examples: {}'.format(len(X_val)))"
      ],
      "id": "bdd473ca-623e-4649-b524-5ec7f81a91cd",
      "execution_count": 7,
      "outputs": [
        {
          "output_type": "stream",
          "name": "stdout",
          "text": [
            "Training examples: 1920\n",
            "Validation examples: 480\n"
          ]
        }
      ]
    },
    {
      "cell_type": "code",
      "metadata": {
        "id": "08dea5c0-8b38-472e-9312-e54ccf8aec20"
      },
      "source": [
        "labels = []\n",
        "\n",
        "for i in range(len(X_train)):\n",
        "    label = X_train[i].split('/')[-1].split('_')[0]\n",
        "    \n",
        "    if label not in labels:\n",
        "        labels.append(label)"
      ],
      "id": "08dea5c0-8b38-472e-9312-e54ccf8aec20",
      "execution_count": 8,
      "outputs": []
    },
    {
      "cell_type": "code",
      "metadata": {
        "colab": {
          "base_uri": "https://localhost:8080/"
        },
        "id": "44c51831-2b70-4c83-93f0-951338e2a682",
        "outputId": "f23cdde2-b968-4a8e-876b-dce7b4d39be2"
      },
      "source": [
        "print(labels)"
      ],
      "id": "44c51831-2b70-4c83-93f0-951338e2a682",
      "execution_count": 9,
      "outputs": [
        {
          "output_type": "stream",
          "name": "stdout",
          "text": [
            "['2', '8', '0', '9', '3', '5', '1', '7', '4', '6']\n"
          ]
        }
      ]
    },
    {
      "cell_type": "markdown",
      "metadata": {
        "id": "4823e37b-1bbc-4a62-8c18-daeac8e713a4"
      },
      "source": [
        "## Data Preprocessing"
      ],
      "id": "4823e37b-1bbc-4a62-8c18-daeac8e713a4"
    },
    {
      "cell_type": "code",
      "metadata": {
        "colab": {
          "base_uri": "https://localhost:8080/"
        },
        "id": "71169dc6-b450-48c8-9347-adacd419ae9c",
        "outputId": "a0868e85-2f48-4305-f029-4dbf485caaa9"
      },
      "source": [
        "label_binarizer = LabelBinarizer()\n",
        "label_binarizer.fit(list(set(labels)))"
      ],
      "id": "71169dc6-b450-48c8-9347-adacd419ae9c",
      "execution_count": 10,
      "outputs": [
        {
          "output_type": "execute_result",
          "data": {
            "text/plain": [
              "LabelBinarizer()"
            ]
          },
          "metadata": {},
          "execution_count": 10
        }
      ]
    },
    {
      "cell_type": "code",
      "metadata": {
        "id": "da3cd7b3-bcd7-43c0-ab2f-d3b5c70a4afd"
      },
      "source": [
        "def one_hot_encode(label):\n",
        "    return label_binarizer.transform(label)"
      ],
      "id": "da3cd7b3-bcd7-43c0-ab2f-d3b5c70a4afd",
      "execution_count": 11,
      "outputs": []
    },
    {
      "cell_type": "code",
      "metadata": {
        "id": "6411f8c9-ed0b-4b6d-b6a8-4d2aef0c666e"
      },
      "source": [
        "n_features = 20\n",
        "max_length = 80\n",
        "n_classes = len(labels)"
      ],
      "id": "6411f8c9-ed0b-4b6d-b6a8-4d2aef0c666e",
      "execution_count": 12,
      "outputs": []
    },
    {
      "cell_type": "code",
      "metadata": {
        "id": "3bb862de-a36b-47ec-8852-85f7a77475b2"
      },
      "source": [
        "def batch_generator(data, batch_size=16):\n",
        "    while 1:\n",
        "        random.shuffle(data)\n",
        "        X, y = [], []\n",
        "        for i in range(batch_size):\n",
        "            wav = data[i]\n",
        "            wave, sr = librosa.load(wav, mono=True)\n",
        "            label = wav.split('/')[-1].split('_')[0]\n",
        "            y.append(label)\n",
        "            mfcc = librosa.feature.mfcc(wave, sr)\n",
        "            mfcc = np.pad(mfcc, ((0,0), (0, max_length-len(mfcc[0]))), mode='constant', constant_values=0) \n",
        "            X.append(np.array(mfcc))\n",
        "        yield np.array(X), np.array(one_hot_encode(y))"
      ],
      "id": "3bb862de-a36b-47ec-8852-85f7a77475b2",
      "execution_count": 13,
      "outputs": []
    },
    {
      "cell_type": "markdown",
      "metadata": {
        "id": "232cae79-f33d-437c-b7c3-663c123b87da"
      },
      "source": [
        "## Model Training"
      ],
      "id": "232cae79-f33d-437c-b7c3-663c123b87da"
    },
    {
      "cell_type": "code",
      "metadata": {
        "id": "b907933f-d179-4894-90eb-e0947bdeea0e"
      },
      "source": [
        "learning_rate = 0.001\n",
        "batch_size = 64\n",
        "n_epochs = 50\n",
        "dropout = 0.5"
      ],
      "id": "b907933f-d179-4894-90eb-e0947bdeea0e",
      "execution_count": 14,
      "outputs": []
    },
    {
      "cell_type": "code",
      "metadata": {
        "id": "775c8232-ed21-42fc-98e3-177c61c00607"
      },
      "source": [
        "input_shape = (n_features, max_length)\n",
        "steps_per_epoch = 50"
      ],
      "id": "775c8232-ed21-42fc-98e3-177c61c00607",
      "execution_count": 15,
      "outputs": []
    },
    {
      "cell_type": "code",
      "metadata": {
        "id": "a21d2fc4-b3e0-4abc-8aaa-3520f526db78"
      },
      "source": [
        "model = Sequential()\n",
        "model.add(LSTM(256, return_sequences=True, input_shape=input_shape,\n",
        "dropout=dropout))\n",
        "model.add(Flatten())\n",
        "model.add(Dense(128, activation='relu'))\n",
        "model.add(Dropout(dropout))\n",
        "model.add(Dense(n_classes, activation='softmax'))"
      ],
      "id": "a21d2fc4-b3e0-4abc-8aaa-3520f526db78",
      "execution_count": 16,
      "outputs": []
    },
    {
      "cell_type": "code",
      "metadata": {
        "colab": {
          "base_uri": "https://localhost:8080/"
        },
        "id": "f3d822c4-ed8e-40d3-b81d-fd100c05d520",
        "outputId": "8d4a5f3a-b917-42f9-e5e5-a847e75bb816"
      },
      "source": [
        "opt = Adam(learning_rate=learning_rate)\n",
        "model.compile(loss='categorical_crossentropy', optimizer=opt, metrics=['accuracy'])\n",
        "model.summary()"
      ],
      "id": "f3d822c4-ed8e-40d3-b81d-fd100c05d520",
      "execution_count": 17,
      "outputs": [
        {
          "output_type": "stream",
          "name": "stdout",
          "text": [
            "Model: \"sequential\"\n",
            "_________________________________________________________________\n",
            " Layer (type)                Output Shape              Param #   \n",
            "=================================================================\n",
            " lstm (LSTM)                 (None, 20, 256)           345088    \n",
            "                                                                 \n",
            " flatten (Flatten)           (None, 5120)              0         \n",
            "                                                                 \n",
            " dense (Dense)               (None, 128)               655488    \n",
            "                                                                 \n",
            " dropout (Dropout)           (None, 128)               0         \n",
            "                                                                 \n",
            " dense_1 (Dense)             (None, 10)                1290      \n",
            "                                                                 \n",
            "=================================================================\n",
            "Total params: 1,001,866\n",
            "Trainable params: 1,001,866\n",
            "Non-trainable params: 0\n",
            "_________________________________________________________________\n"
          ]
        }
      ]
    },
    {
      "cell_type": "code",
      "metadata": {
        "id": "70be77c1-ab92-4dea-a4f0-8b7f43d8ac4f"
      },
      "source": [
        "callbacks = [ModelCheckpoint('checkpoints/number_recognition_best_model_{epoch:02d}.hdf5', save_best_only=True),\n",
        "            EarlyStopping(monitor='val_accuracy', patience=2)]"
      ],
      "id": "70be77c1-ab92-4dea-a4f0-8b7f43d8ac4f",
      "execution_count": 18,
      "outputs": []
    },
    {
      "cell_type": "code",
      "metadata": {
        "colab": {
          "base_uri": "https://localhost:8080/"
        },
        "id": "671dea65-c56e-4002-b8f5-d8e992bcc61e",
        "outputId": "7ada5204-5b8e-4563-a333-779190bb259d"
      },
      "source": [
        "history = model.fit_generator(\n",
        "    generator=batch_generator(X_train, batch_size),\n",
        "    steps_per_epoch=steps_per_epoch,\n",
        "    epochs=n_epochs,\n",
        "    verbose=1,\n",
        "    validation_data=batch_generator(X_val, 32),\n",
        "    validation_steps=5,\n",
        "    callbacks=callbacks\n",
        ")"
      ],
      "id": "671dea65-c56e-4002-b8f5-d8e992bcc61e",
      "execution_count": 19,
      "outputs": [
        {
          "output_type": "stream",
          "name": "stderr",
          "text": [
            "/usr/local/lib/python3.7/dist-packages/ipykernel_launcher.py:8: UserWarning: `Model.fit_generator` is deprecated and will be removed in a future version. Please use `Model.fit`, which supports generators.\n",
            "  \n"
          ]
        },
        {
          "output_type": "stream",
          "name": "stdout",
          "text": [
            "Epoch 1/50\n",
            "50/50 [==============================] - 137s 3s/step - loss: 1.8615 - accuracy: 0.3397 - val_loss: 1.2363 - val_accuracy: 0.6125\n",
            "Epoch 2/50\n",
            "50/50 [==============================] - 132s 3s/step - loss: 1.2319 - accuracy: 0.5797 - val_loss: 0.6403 - val_accuracy: 0.7625\n",
            "Epoch 3/50\n",
            "50/50 [==============================] - 131s 3s/step - loss: 0.9640 - accuracy: 0.6684 - val_loss: 0.7835 - val_accuracy: 0.7750\n",
            "Epoch 4/50\n",
            "50/50 [==============================] - 132s 3s/step - loss: 0.8633 - accuracy: 0.7119 - val_loss: 0.5387 - val_accuracy: 0.8562\n",
            "Epoch 5/50\n",
            "50/50 [==============================] - 131s 3s/step - loss: 0.7212 - accuracy: 0.7513 - val_loss: 0.4259 - val_accuracy: 0.8875\n",
            "Epoch 6/50\n",
            "50/50 [==============================] - 132s 3s/step - loss: 0.6435 - accuracy: 0.7788 - val_loss: 0.3788 - val_accuracy: 0.9062\n",
            "Epoch 7/50\n",
            "50/50 [==============================] - 131s 3s/step - loss: 0.5616 - accuracy: 0.8053 - val_loss: 0.3204 - val_accuracy: 0.9125\n",
            "Epoch 8/50\n",
            "50/50 [==============================] - 132s 3s/step - loss: 0.5066 - accuracy: 0.8319 - val_loss: 0.2651 - val_accuracy: 0.8938\n",
            "Epoch 9/50\n",
            "50/50 [==============================] - 134s 3s/step - loss: 0.5077 - accuracy: 0.8266 - val_loss: 0.2369 - val_accuracy: 0.9125\n"
          ]
        }
      ]
    },
    {
      "cell_type": "markdown",
      "metadata": {
        "id": "7JzhJqDnVZid"
      },
      "source": [
        "## Load the Model from Checkpoints"
      ],
      "id": "7JzhJqDnVZid"
    },
    {
      "cell_type": "code",
      "metadata": {
        "id": "zp92qZfSe-vw"
      },
      "source": [
        "model = Sequential()\n",
        "model.add(LSTM(256, return_sequences=True, input_shape=input_shape,\n",
        "dropout=dropout))\n",
        "model.add(Flatten())\n",
        "model.add(Dense(128, activation='relu'))\n",
        "model.add(Dropout(dropout))\n",
        "model.add(Dense(n_classes, activation='softmax'))\n",
        "\n",
        "opt = Adam(learning_rate=learning_rate)\n",
        "model.compile(loss='categorical_crossentropy', optimizer=opt, metrics=['accuracy'])"
      ],
      "id": "zp92qZfSe-vw",
      "execution_count": 20,
      "outputs": []
    },
    {
      "cell_type": "code",
      "metadata": {
        "id": "flKQbCjYWJ5W"
      },
      "source": [
        "model.load_weights('checkpoints/number_recognition_best_model_09.hdf5')"
      ],
      "id": "flKQbCjYWJ5W",
      "execution_count": 22,
      "outputs": []
    },
    {
      "cell_type": "markdown",
      "metadata": {
        "id": "iCRQZGEZWyrx"
      },
      "source": [
        "## Perform Number Recognition"
      ],
      "id": "iCRQZGEZWyrx"
    },
    {
      "cell_type": "code",
      "metadata": {
        "id": "OXlenB9BWTkk"
      },
      "source": [
        "wave, sr = librosa.load('data/0_Agnes_100.wav', mono=True)\n",
        "mfcc = librosa.feature.mfcc(wave, sr)\n",
        "mfcc = np.pad(mfcc, ((0,0), (0, max_length-len(mfcc[0]))), mode='constant', constant_values=0)"
      ],
      "id": "OXlenB9BWTkk",
      "execution_count": 23,
      "outputs": []
    },
    {
      "cell_type": "code",
      "metadata": {
        "id": "goiemkHoXGRL"
      },
      "source": [
        "model_input = np.array(mfcc)\n",
        "model_input = model_input.reshape(1, 20, 80)"
      ],
      "id": "goiemkHoXGRL",
      "execution_count": 24,
      "outputs": []
    },
    {
      "cell_type": "code",
      "metadata": {
        "id": "OLslc5YwXTGI"
      },
      "source": [
        "model_output = model.predict(model_input)"
      ],
      "id": "OLslc5YwXTGI",
      "execution_count": 25,
      "outputs": []
    },
    {
      "cell_type": "code",
      "metadata": {
        "colab": {
          "base_uri": "https://localhost:8080/"
        },
        "id": "Ltil0wc-YKUo",
        "outputId": "4238395e-c5ec-4b89-a091-2c644f022b0b"
      },
      "source": [
        "print(model_output)"
      ],
      "id": "Ltil0wc-YKUo",
      "execution_count": 26,
      "outputs": [
        {
          "output_type": "stream",
          "name": "stdout",
          "text": [
            "[[9.9357867e-01 2.2778002e-05 2.3994346e-05 4.2695906e-06 4.0498990e-06\n",
            "  3.0698409e-06 5.0659627e-03 3.1897347e-04 1.3947790e-04 8.3869579e-04]]\n"
          ]
        }
      ]
    },
    {
      "cell_type": "code",
      "metadata": {
        "id": "QIRuVGHJfIXn"
      },
      "source": [
        "pred = label_binarizer.inverse_transform(model_output)"
      ],
      "id": "QIRuVGHJfIXn",
      "execution_count": 27,
      "outputs": []
    },
    {
      "cell_type": "code",
      "metadata": {
        "colab": {
          "base_uri": "https://localhost:8080/"
        },
        "id": "mWygZ9tGfzkj",
        "outputId": "8009531a-db36-4ac1-e799-c766977536d2"
      },
      "source": [
        "print(pred)"
      ],
      "id": "mWygZ9tGfzkj",
      "execution_count": 28,
      "outputs": [
        {
          "output_type": "stream",
          "name": "stdout",
          "text": [
            "['0']\n"
          ]
        }
      ]
    },
    {
      "cell_type": "markdown",
      "metadata": {
        "id": "LPwrw1bFggPo"
      },
      "source": [
        "## Perform Recognition on Own Voice"
      ],
      "id": "LPwrw1bFggPo"
    },
    {
      "cell_type": "code",
      "metadata": {
        "id": "jnwY6crlgjp2"
      },
      "source": [
        "wave, sr = librosa.load('own_data/0_own.wav', mono=True)\n",
        "mfcc = librosa.feature.mfcc(wave, sr)\n",
        "# mfcc = np.pad(mfcc, ((0,0), (0, max_length-len(mfcc[0]))), mode='constant', constant_values=0)"
      ],
      "id": "jnwY6crlgjp2",
      "execution_count": 29,
      "outputs": []
    },
    {
      "cell_type": "code",
      "metadata": {
        "id": "lT5flaoMiv-i"
      },
      "source": [
        "model_input = np.array(mfcc)\n",
        "model_input = model_input.tolist()\n",
        "\n",
        "new_model_input = []\n",
        "\n",
        "for i in model_input:\n",
        "    new_model_input.append(i[:80])\n",
        "\n",
        "model_input = np.array(new_model_input)\n",
        "\n",
        "model_input = model_input.reshape(1, 20, 80)"
      ],
      "id": "lT5flaoMiv-i",
      "execution_count": 30,
      "outputs": []
    },
    {
      "cell_type": "code",
      "metadata": {
        "id": "dHOnyNSbqaEN"
      },
      "source": [
        "model_output = model.predict(model_input)"
      ],
      "id": "dHOnyNSbqaEN",
      "execution_count": 31,
      "outputs": []
    },
    {
      "cell_type": "code",
      "metadata": {
        "colab": {
          "base_uri": "https://localhost:8080/"
        },
        "id": "_6ZH6x2aqstk",
        "outputId": "d0fd4a9d-dbc9-4e01-991f-55a49ec47bc5"
      },
      "source": [
        "print(model_output)"
      ],
      "id": "_6ZH6x2aqstk",
      "execution_count": 32,
      "outputs": [
        {
          "output_type": "stream",
          "name": "stdout",
          "text": [
            "[[0.2870426  0.00590626 0.02756211 0.14137095 0.07293818 0.03185944\n",
            "  0.00254114 0.35451174 0.00244273 0.07382479]]\n"
          ]
        }
      ]
    },
    {
      "cell_type": "code",
      "metadata": {
        "id": "aOXFnzsMquPi"
      },
      "source": [
        "pred = label_binarizer.inverse_transform(model_output)"
      ],
      "id": "aOXFnzsMquPi",
      "execution_count": 33,
      "outputs": []
    },
    {
      "cell_type": "code",
      "metadata": {
        "colab": {
          "base_uri": "https://localhost:8080/"
        },
        "id": "iTH9ZTIAqv4W",
        "outputId": "b7e42ddc-9539-40b2-ffe0-8a0944ff3a31"
      },
      "source": [
        "print(pred)"
      ],
      "id": "iTH9ZTIAqv4W",
      "execution_count": 34,
      "outputs": [
        {
          "output_type": "stream",
          "name": "stdout",
          "text": [
            "['7']\n"
          ]
        }
      ]
    },
    {
      "cell_type": "code",
      "metadata": {
        "id": "LEmi7Wpg4Yw7"
      },
      "source": [
        ""
      ],
      "id": "LEmi7Wpg4Yw7",
      "execution_count": null,
      "outputs": []
    }
  ]
}